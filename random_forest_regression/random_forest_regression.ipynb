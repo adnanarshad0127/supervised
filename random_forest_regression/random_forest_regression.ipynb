{
 "cells": [
  {
   "cell_type": "code",
   "execution_count": 1,
   "metadata": {},
   "outputs": [],
   "source": [
    "import pandas as pd\n",
    "import numpy as np \n",
    "import matplotlib.pyplot as plt"
   ]
  },
  {
   "cell_type": "code",
   "execution_count": 2,
   "metadata": {},
   "outputs": [
    {
     "data": {
      "text/html": [
       "<div>\n",
       "<style scoped>\n",
       "    .dataframe tbody tr th:only-of-type {\n",
       "        vertical-align: middle;\n",
       "    }\n",
       "\n",
       "    .dataframe tbody tr th {\n",
       "        vertical-align: top;\n",
       "    }\n",
       "\n",
       "    .dataframe thead th {\n",
       "        text-align: right;\n",
       "    }\n",
       "</style>\n",
       "<table border=\"1\" class=\"dataframe\">\n",
       "  <thead>\n",
       "    <tr style=\"text-align: right;\">\n",
       "      <th></th>\n",
       "      <th>Unnamed: 0</th>\n",
       "      <th>X53416</th>\n",
       "      <th>M83670</th>\n",
       "      <th>X90908</th>\n",
       "      <th>M97496</th>\n",
       "      <th>X90908.1</th>\n",
       "      <th>U37019</th>\n",
       "      <th>R48602</th>\n",
       "      <th>T96548</th>\n",
       "      <th>X64559</th>\n",
       "      <th>...</th>\n",
       "      <th>H87456</th>\n",
       "      <th>R64130</th>\n",
       "      <th>H11125.1</th>\n",
       "      <th>U22055</th>\n",
       "      <th>L22524</th>\n",
       "      <th>M13699.1</th>\n",
       "      <th>X54489</th>\n",
       "      <th>T55008</th>\n",
       "      <th>M10065.2</th>\n",
       "      <th>y</th>\n",
       "    </tr>\n",
       "  </thead>\n",
       "  <tbody>\n",
       "    <tr>\n",
       "      <th>27</th>\n",
       "      <td>27</td>\n",
       "      <td>1412</td>\n",
       "      <td>288</td>\n",
       "      <td>-21</td>\n",
       "      <td>731</td>\n",
       "      <td>8</td>\n",
       "      <td>673</td>\n",
       "      <td>298</td>\n",
       "      <td>1033</td>\n",
       "      <td>179</td>\n",
       "      <td>...</td>\n",
       "      <td>9</td>\n",
       "      <td>6</td>\n",
       "      <td>101</td>\n",
       "      <td>-73</td>\n",
       "      <td>6</td>\n",
       "      <td>1</td>\n",
       "      <td>8</td>\n",
       "      <td>-5</td>\n",
       "      <td>39</td>\n",
       "      <td>Normal</td>\n",
       "    </tr>\n",
       "    <tr>\n",
       "      <th>10</th>\n",
       "      <td>10</td>\n",
       "      <td>133</td>\n",
       "      <td>45</td>\n",
       "      <td>-11</td>\n",
       "      <td>72</td>\n",
       "      <td>5</td>\n",
       "      <td>45</td>\n",
       "      <td>34</td>\n",
       "      <td>175</td>\n",
       "      <td>-2</td>\n",
       "      <td>...</td>\n",
       "      <td>686</td>\n",
       "      <td>0</td>\n",
       "      <td>84</td>\n",
       "      <td>75</td>\n",
       "      <td>4</td>\n",
       "      <td>-11</td>\n",
       "      <td>14</td>\n",
       "      <td>6</td>\n",
       "      <td>64</td>\n",
       "      <td>tumor</td>\n",
       "    </tr>\n",
       "    <tr>\n",
       "      <th>1</th>\n",
       "      <td>1</td>\n",
       "      <td>108</td>\n",
       "      <td>-30</td>\n",
       "      <td>-7</td>\n",
       "      <td>60</td>\n",
       "      <td>0</td>\n",
       "      <td>24</td>\n",
       "      <td>8</td>\n",
       "      <td>113</td>\n",
       "      <td>-3</td>\n",
       "      <td>...</td>\n",
       "      <td>186</td>\n",
       "      <td>6</td>\n",
       "      <td>60</td>\n",
       "      <td>93</td>\n",
       "      <td>140</td>\n",
       "      <td>-3</td>\n",
       "      <td>271</td>\n",
       "      <td>-1</td>\n",
       "      <td>-51</td>\n",
       "      <td>tumor</td>\n",
       "    </tr>\n",
       "    <tr>\n",
       "      <th>32</th>\n",
       "      <td>32</td>\n",
       "      <td>164</td>\n",
       "      <td>330</td>\n",
       "      <td>-13</td>\n",
       "      <td>721</td>\n",
       "      <td>12</td>\n",
       "      <td>504</td>\n",
       "      <td>154</td>\n",
       "      <td>1381</td>\n",
       "      <td>78</td>\n",
       "      <td>...</td>\n",
       "      <td>-18</td>\n",
       "      <td>1</td>\n",
       "      <td>-1484</td>\n",
       "      <td>-4</td>\n",
       "      <td>-1</td>\n",
       "      <td>-1</td>\n",
       "      <td>3</td>\n",
       "      <td>-5</td>\n",
       "      <td>-63</td>\n",
       "      <td>Normal</td>\n",
       "    </tr>\n",
       "    <tr>\n",
       "      <th>31</th>\n",
       "      <td>31</td>\n",
       "      <td>488</td>\n",
       "      <td>564</td>\n",
       "      <td>-29</td>\n",
       "      <td>1303</td>\n",
       "      <td>-9</td>\n",
       "      <td>1236</td>\n",
       "      <td>265</td>\n",
       "      <td>2203</td>\n",
       "      <td>41</td>\n",
       "      <td>...</td>\n",
       "      <td>16</td>\n",
       "      <td>0</td>\n",
       "      <td>109</td>\n",
       "      <td>21</td>\n",
       "      <td>6</td>\n",
       "      <td>-15</td>\n",
       "      <td>11</td>\n",
       "      <td>7</td>\n",
       "      <td>-145</td>\n",
       "      <td>Normal</td>\n",
       "    </tr>\n",
       "  </tbody>\n",
       "</table>\n",
       "<p>5 rows × 7466 columns</p>\n",
       "</div>"
      ],
      "text/plain": [
       "    Unnamed: 0  X53416  M83670  X90908  M97496  X90908.1  U37019  R48602  \\\n",
       "27          27    1412     288     -21     731         8     673     298   \n",
       "10          10     133      45     -11      72         5      45      34   \n",
       "1            1     108     -30      -7      60         0      24       8   \n",
       "32          32     164     330     -13     721        12     504     154   \n",
       "31          31     488     564     -29    1303        -9    1236     265   \n",
       "\n",
       "    T96548  X64559  ...  H87456  R64130  H11125.1  U22055  L22524  M13699.1  \\\n",
       "27    1033     179  ...       9       6       101     -73       6         1   \n",
       "10     175      -2  ...     686       0        84      75       4       -11   \n",
       "1      113      -3  ...     186       6        60      93     140        -3   \n",
       "32    1381      78  ...     -18       1     -1484      -4      -1        -1   \n",
       "31    2203      41  ...      16       0       109      21       6       -15   \n",
       "\n",
       "    X54489  T55008  M10065.2       y  \n",
       "27       8      -5        39  Normal  \n",
       "10      14       6        64   tumor  \n",
       "1      271      -1       -51   tumor  \n",
       "32       3      -5       -63  Normal  \n",
       "31      11       7      -145  Normal  \n",
       "\n",
       "[5 rows x 7466 columns]"
      ]
     },
     "execution_count": 2,
     "metadata": {},
     "output_type": "execute_result"
    }
   ],
   "source": [
    "df=pd.read_csv(\"data.csv\")\n",
    "df.sample(5)"
   ]
  },
  {
   "cell_type": "code",
   "execution_count": 3,
   "metadata": {},
   "outputs": [],
   "source": [
    "X=df.drop(\"y\",axis=1)\n",
    "y=df['y']"
   ]
  },
  {
   "cell_type": "code",
   "execution_count": 5,
   "metadata": {},
   "outputs": [
    {
     "data": {
      "text/plain": [
       "array(['tumor', 'Normal', 'Normal', 'tumor', 'Normal', 'tumor', 'tumor',\n",
       "       'Normal'], dtype=object)"
      ]
     },
     "execution_count": 5,
     "metadata": {},
     "output_type": "execute_result"
    }
   ],
   "source": [
    "from sklearn.ensemble import RandomForestRegressor\n",
    "model=RandomForestClassifier(n_estimators=10)\n",
    "model.fit(X,y)\n",
    "\n",
    "\n",
    "from sklearn.model_selection import train_test_split\n",
    "X_train,X_test,y_train,y_test=train_test_split(X,y,test_size=0.2)\n",
    "\n",
    "prediction=model.predict(X_test)\n",
    "prediction"
   ]
  },
  {
   "cell_type": "code",
   "execution_count": 6,
   "metadata": {},
   "outputs": [
    {
     "name": "stdout",
     "output_type": "stream",
     "text": [
      " Score is  1.0\n"
     ]
    }
   ],
   "source": [
    "score=model.score(X_test,y_test)\n",
    "print(\" Score is \", score)"
   ]
  },
  {
   "cell_type": "code",
   "execution_count": 7,
   "metadata": {},
   "outputs": [
    {
     "name": "stdout",
     "output_type": "stream",
     "text": [
      "Accuracy is  1.0\n"
     ]
    }
   ],
   "source": [
    "from sklearn import metrics\n",
    "print(\"Accuracy is \" , metrics.accuracy_score(y_test,prediction))"
   ]
  },
  {
   "cell_type": "code",
   "execution_count": null,
   "metadata": {},
   "outputs": [],
   "source": []
  }
 ],
 "metadata": {
  "interpreter": {
   "hash": "1baa965d5efe3ac65b79dfc60c0d706280b1da80fedb7760faf2759126c4f253"
  },
  "kernelspec": {
   "display_name": "Python 3.8.0 64-bit",
   "language": "python",
   "name": "python3"
  },
  "language_info": {
   "codemirror_mode": {
    "name": "ipython",
    "version": 3
   },
   "file_extension": ".py",
   "mimetype": "text/x-python",
   "name": "python",
   "nbconvert_exporter": "python",
   "pygments_lexer": "ipython3",
   "version": "3.8.0"
  },
  "orig_nbformat": 4
 },
 "nbformat": 4,
 "nbformat_minor": 2
}
