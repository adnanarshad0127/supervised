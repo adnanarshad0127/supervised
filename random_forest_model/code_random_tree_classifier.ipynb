{
 "cells": [
  {
   "cell_type": "markdown",
   "metadata": {},
   "source": [
    "### Working On Brain Tumor Dataset"
   ]
  },
  {
   "cell_type": "markdown",
   "metadata": {},
   "source": [
    "##### Import Librabies"
   ]
  },
  {
   "cell_type": "code",
   "execution_count": 13,
   "metadata": {},
   "outputs": [],
   "source": [
    "import pandas as pd\n",
    "import numpy as np \n",
    "import matplotlib.pyplot as plt"
   ]
  },
  {
   "cell_type": "markdown",
   "metadata": {},
   "source": [
    "#### load dataset"
   ]
  },
  {
   "cell_type": "code",
   "execution_count": 14,
   "metadata": {},
   "outputs": [
    {
     "data": {
      "text/html": [
       "<div>\n",
       "<style scoped>\n",
       "    .dataframe tbody tr th:only-of-type {\n",
       "        vertical-align: middle;\n",
       "    }\n",
       "\n",
       "    .dataframe tbody tr th {\n",
       "        vertical-align: top;\n",
       "    }\n",
       "\n",
       "    .dataframe thead th {\n",
       "        text-align: right;\n",
       "    }\n",
       "</style>\n",
       "<table border=\"1\" class=\"dataframe\">\n",
       "  <thead>\n",
       "    <tr style=\"text-align: right;\">\n",
       "      <th></th>\n",
       "      <th>Unnamed: 0</th>\n",
       "      <th>X53416</th>\n",
       "      <th>M83670</th>\n",
       "      <th>X90908</th>\n",
       "      <th>M97496</th>\n",
       "      <th>X90908.1</th>\n",
       "      <th>U37019</th>\n",
       "      <th>R48602</th>\n",
       "      <th>T96548</th>\n",
       "      <th>X64559</th>\n",
       "      <th>...</th>\n",
       "      <th>H87456</th>\n",
       "      <th>R64130</th>\n",
       "      <th>H11125.1</th>\n",
       "      <th>U22055</th>\n",
       "      <th>L22524</th>\n",
       "      <th>M13699.1</th>\n",
       "      <th>X54489</th>\n",
       "      <th>T55008</th>\n",
       "      <th>M10065.2</th>\n",
       "      <th>y</th>\n",
       "    </tr>\n",
       "  </thead>\n",
       "  <tbody>\n",
       "    <tr>\n",
       "      <th>34</th>\n",
       "      <td>34</td>\n",
       "      <td>68</td>\n",
       "      <td>718</td>\n",
       "      <td>-50</td>\n",
       "      <td>1816</td>\n",
       "      <td>-28</td>\n",
       "      <td>251</td>\n",
       "      <td>38</td>\n",
       "      <td>598</td>\n",
       "      <td>73</td>\n",
       "      <td>...</td>\n",
       "      <td>47</td>\n",
       "      <td>-2</td>\n",
       "      <td>190</td>\n",
       "      <td>3</td>\n",
       "      <td>0</td>\n",
       "      <td>8</td>\n",
       "      <td>21</td>\n",
       "      <td>22</td>\n",
       "      <td>-214</td>\n",
       "      <td>Normal</td>\n",
       "    </tr>\n",
       "    <tr>\n",
       "      <th>11</th>\n",
       "      <td>11</td>\n",
       "      <td>-359</td>\n",
       "      <td>-41</td>\n",
       "      <td>-2</td>\n",
       "      <td>67</td>\n",
       "      <td>20</td>\n",
       "      <td>18</td>\n",
       "      <td>25</td>\n",
       "      <td>8</td>\n",
       "      <td>-8</td>\n",
       "      <td>...</td>\n",
       "      <td>66</td>\n",
       "      <td>6</td>\n",
       "      <td>67</td>\n",
       "      <td>59</td>\n",
       "      <td>27</td>\n",
       "      <td>1505</td>\n",
       "      <td>51</td>\n",
       "      <td>-9</td>\n",
       "      <td>-75</td>\n",
       "      <td>tumor</td>\n",
       "    </tr>\n",
       "    <tr>\n",
       "      <th>6</th>\n",
       "      <td>6</td>\n",
       "      <td>225</td>\n",
       "      <td>118</td>\n",
       "      <td>-5</td>\n",
       "      <td>175</td>\n",
       "      <td>-40</td>\n",
       "      <td>108</td>\n",
       "      <td>54</td>\n",
       "      <td>272</td>\n",
       "      <td>32</td>\n",
       "      <td>...</td>\n",
       "      <td>64</td>\n",
       "      <td>-3</td>\n",
       "      <td>142</td>\n",
       "      <td>55</td>\n",
       "      <td>202</td>\n",
       "      <td>-23</td>\n",
       "      <td>110</td>\n",
       "      <td>7</td>\n",
       "      <td>-14</td>\n",
       "      <td>tumor</td>\n",
       "    </tr>\n",
       "    <tr>\n",
       "      <th>30</th>\n",
       "      <td>30</td>\n",
       "      <td>1760</td>\n",
       "      <td>320</td>\n",
       "      <td>-8</td>\n",
       "      <td>917</td>\n",
       "      <td>-2</td>\n",
       "      <td>1060</td>\n",
       "      <td>473</td>\n",
       "      <td>1472</td>\n",
       "      <td>226</td>\n",
       "      <td>...</td>\n",
       "      <td>62</td>\n",
       "      <td>6</td>\n",
       "      <td>71</td>\n",
       "      <td>34</td>\n",
       "      <td>1</td>\n",
       "      <td>-1</td>\n",
       "      <td>19</td>\n",
       "      <td>-10</td>\n",
       "      <td>-1</td>\n",
       "      <td>Normal</td>\n",
       "    </tr>\n",
       "    <tr>\n",
       "      <th>21</th>\n",
       "      <td>21</td>\n",
       "      <td>462</td>\n",
       "      <td>379</td>\n",
       "      <td>-21</td>\n",
       "      <td>1128</td>\n",
       "      <td>3</td>\n",
       "      <td>229</td>\n",
       "      <td>180</td>\n",
       "      <td>684</td>\n",
       "      <td>104</td>\n",
       "      <td>...</td>\n",
       "      <td>17</td>\n",
       "      <td>-3</td>\n",
       "      <td>94</td>\n",
       "      <td>-4</td>\n",
       "      <td>8</td>\n",
       "      <td>0</td>\n",
       "      <td>10</td>\n",
       "      <td>-5</td>\n",
       "      <td>66</td>\n",
       "      <td>Normal</td>\n",
       "    </tr>\n",
       "  </tbody>\n",
       "</table>\n",
       "<p>5 rows × 7466 columns</p>\n",
       "</div>"
      ],
      "text/plain": [
       "    Unnamed: 0  X53416  M83670  X90908  M97496  X90908.1  U37019  R48602  \\\n",
       "34          34      68     718     -50    1816       -28     251      38   \n",
       "11          11    -359     -41      -2      67        20      18      25   \n",
       "6            6     225     118      -5     175       -40     108      54   \n",
       "30          30    1760     320      -8     917        -2    1060     473   \n",
       "21          21     462     379     -21    1128         3     229     180   \n",
       "\n",
       "    T96548  X64559  ...  H87456  R64130  H11125.1  U22055  L22524  M13699.1  \\\n",
       "34     598      73  ...      47      -2       190       3       0         8   \n",
       "11       8      -8  ...      66       6        67      59      27      1505   \n",
       "6      272      32  ...      64      -3       142      55     202       -23   \n",
       "30    1472     226  ...      62       6        71      34       1        -1   \n",
       "21     684     104  ...      17      -3        94      -4       8         0   \n",
       "\n",
       "    X54489  T55008  M10065.2       y  \n",
       "34      21      22      -214  Normal  \n",
       "11      51      -9       -75   tumor  \n",
       "6      110       7       -14   tumor  \n",
       "30      19     -10        -1  Normal  \n",
       "21      10      -5        66  Normal  \n",
       "\n",
       "[5 rows x 7466 columns]"
      ]
     },
     "execution_count": 14,
     "metadata": {},
     "output_type": "execute_result"
    }
   ],
   "source": [
    "df=pd.read_csv(\"data.csv\")\n",
    "df.sample(5)"
   ]
  },
  {
   "cell_type": "code",
   "execution_count": 15,
   "metadata": {},
   "outputs": [
    {
     "data": {
      "text/plain": [
       "Unnamed: 0    0\n",
       "X53416        0\n",
       "M83670        0\n",
       "X90908        0\n",
       "M97496        0\n",
       "             ..\n",
       "M13699.1      0\n",
       "X54489        0\n",
       "T55008        0\n",
       "M10065.2      0\n",
       "y             0\n",
       "Length: 7466, dtype: int64"
      ]
     },
     "execution_count": 15,
     "metadata": {},
     "output_type": "execute_result"
    }
   ],
   "source": [
    "df.isnull().sum()"
   ]
  },
  {
   "cell_type": "code",
   "execution_count": 16,
   "metadata": {},
   "outputs": [
    {
     "data": {
      "text/plain": [
       "Unnamed: 0    36\n",
       "X53416        36\n",
       "M83670        35\n",
       "X90908        25\n",
       "M97496        36\n",
       "              ..\n",
       "M13699.1      25\n",
       "X54489        29\n",
       "T55008        23\n",
       "M10065.2      35\n",
       "y              2\n",
       "Length: 7466, dtype: int64"
      ]
     },
     "execution_count": 16,
     "metadata": {},
     "output_type": "execute_result"
    }
   ],
   "source": [
    "df.nunique()"
   ]
  },
  {
   "cell_type": "code",
   "execution_count": 17,
   "metadata": {},
   "outputs": [
    {
     "data": {
      "text/html": [
       "<div>\n",
       "<style scoped>\n",
       "    .dataframe tbody tr th:only-of-type {\n",
       "        vertical-align: middle;\n",
       "    }\n",
       "\n",
       "    .dataframe tbody tr th {\n",
       "        vertical-align: top;\n",
       "    }\n",
       "\n",
       "    .dataframe thead th {\n",
       "        text-align: right;\n",
       "    }\n",
       "</style>\n",
       "<table border=\"1\" class=\"dataframe\">\n",
       "  <thead>\n",
       "    <tr style=\"text-align: right;\">\n",
       "      <th></th>\n",
       "      <th>Unnamed: 0</th>\n",
       "      <th>X53416</th>\n",
       "      <th>M83670</th>\n",
       "      <th>X90908</th>\n",
       "      <th>M97496</th>\n",
       "      <th>X90908.1</th>\n",
       "      <th>U37019</th>\n",
       "      <th>R48602</th>\n",
       "      <th>T96548</th>\n",
       "      <th>X64559</th>\n",
       "      <th>...</th>\n",
       "      <th>D14657</th>\n",
       "      <th>H87456</th>\n",
       "      <th>R64130</th>\n",
       "      <th>H11125.1</th>\n",
       "      <th>U22055</th>\n",
       "      <th>L22524</th>\n",
       "      <th>M13699.1</th>\n",
       "      <th>X54489</th>\n",
       "      <th>T55008</th>\n",
       "      <th>M10065.2</th>\n",
       "    </tr>\n",
       "  </thead>\n",
       "  <tbody>\n",
       "    <tr>\n",
       "      <th>count</th>\n",
       "      <td>36.000000</td>\n",
       "      <td>36.000000</td>\n",
       "      <td>36.000000</td>\n",
       "      <td>36.000000</td>\n",
       "      <td>36.000000</td>\n",
       "      <td>36.000000</td>\n",
       "      <td>36.000000</td>\n",
       "      <td>36.000000</td>\n",
       "      <td>36.000000</td>\n",
       "      <td>36.000000</td>\n",
       "      <td>...</td>\n",
       "      <td>36.000000</td>\n",
       "      <td>36.000000</td>\n",
       "      <td>36.000000</td>\n",
       "      <td>36.000000</td>\n",
       "      <td>36.000000</td>\n",
       "      <td>36.000000</td>\n",
       "      <td>36.000000</td>\n",
       "      <td>36.000000</td>\n",
       "      <td>36.000000</td>\n",
       "      <td>36.000000</td>\n",
       "    </tr>\n",
       "    <tr>\n",
       "      <th>mean</th>\n",
       "      <td>17.500000</td>\n",
       "      <td>378.750000</td>\n",
       "      <td>177.305556</td>\n",
       "      <td>128.027778</td>\n",
       "      <td>568.305556</td>\n",
       "      <td>93.555556</td>\n",
       "      <td>366.833333</td>\n",
       "      <td>140.166667</td>\n",
       "      <td>644.194444</td>\n",
       "      <td>73.444444</td>\n",
       "      <td>...</td>\n",
       "      <td>31.750000</td>\n",
       "      <td>71.111111</td>\n",
       "      <td>35.694444</td>\n",
       "      <td>53.194444</td>\n",
       "      <td>38.388889</td>\n",
       "      <td>40.944444</td>\n",
       "      <td>41.222222</td>\n",
       "      <td>57.027778</td>\n",
       "      <td>58.694444</td>\n",
       "      <td>44.027778</td>\n",
       "    </tr>\n",
       "    <tr>\n",
       "      <th>std</th>\n",
       "      <td>10.535654</td>\n",
       "      <td>648.716067</td>\n",
       "      <td>243.494655</td>\n",
       "      <td>787.935802</td>\n",
       "      <td>637.451928</td>\n",
       "      <td>557.527370</td>\n",
       "      <td>427.166645</td>\n",
       "      <td>171.443202</td>\n",
       "      <td>685.514231</td>\n",
       "      <td>88.504219</td>\n",
       "      <td>...</td>\n",
       "      <td>50.036201</td>\n",
       "      <td>118.940748</td>\n",
       "      <td>127.437115</td>\n",
       "      <td>269.630628</td>\n",
       "      <td>47.619490</td>\n",
       "      <td>83.763935</td>\n",
       "      <td>251.147778</td>\n",
       "      <td>71.322001</td>\n",
       "      <td>336.030766</td>\n",
       "      <td>224.891782</td>\n",
       "    </tr>\n",
       "    <tr>\n",
       "      <th>min</th>\n",
       "      <td>0.000000</td>\n",
       "      <td>-694.000000</td>\n",
       "      <td>-117.000000</td>\n",
       "      <td>-50.000000</td>\n",
       "      <td>8.000000</td>\n",
       "      <td>-54.000000</td>\n",
       "      <td>-6.000000</td>\n",
       "      <td>-18.000000</td>\n",
       "      <td>-8.000000</td>\n",
       "      <td>-8.000000</td>\n",
       "      <td>...</td>\n",
       "      <td>-21.000000</td>\n",
       "      <td>-24.000000</td>\n",
       "      <td>-12.000000</td>\n",
       "      <td>-1484.000000</td>\n",
       "      <td>-73.000000</td>\n",
       "      <td>-16.000000</td>\n",
       "      <td>-23.000000</td>\n",
       "      <td>-5.000000</td>\n",
       "      <td>-17.000000</td>\n",
       "      <td>-214.000000</td>\n",
       "    </tr>\n",
       "    <tr>\n",
       "      <th>25%</th>\n",
       "      <td>8.750000</td>\n",
       "      <td>-95.750000</td>\n",
       "      <td>-31.000000</td>\n",
       "      <td>-13.250000</td>\n",
       "      <td>47.250000</td>\n",
       "      <td>-7.000000</td>\n",
       "      <td>27.250000</td>\n",
       "      <td>17.750000</td>\n",
       "      <td>33.250000</td>\n",
       "      <td>8.250000</td>\n",
       "      <td>...</td>\n",
       "      <td>1.500000</td>\n",
       "      <td>9.000000</td>\n",
       "      <td>-1.250000</td>\n",
       "      <td>59.250000</td>\n",
       "      <td>12.750000</td>\n",
       "      <td>3.500000</td>\n",
       "      <td>-4.750000</td>\n",
       "      <td>7.000000</td>\n",
       "      <td>-5.000000</td>\n",
       "      <td>-72.750000</td>\n",
       "    </tr>\n",
       "    <tr>\n",
       "      <th>50%</th>\n",
       "      <td>17.500000</td>\n",
       "      <td>194.500000</td>\n",
       "      <td>117.000000</td>\n",
       "      <td>-4.500000</td>\n",
       "      <td>293.500000</td>\n",
       "      <td>3.000000</td>\n",
       "      <td>110.500000</td>\n",
       "      <td>37.500000</td>\n",
       "      <td>333.500000</td>\n",
       "      <td>37.500000</td>\n",
       "      <td>...</td>\n",
       "      <td>10.000000</td>\n",
       "      <td>55.500000</td>\n",
       "      <td>3.000000</td>\n",
       "      <td>94.000000</td>\n",
       "      <td>36.000000</td>\n",
       "      <td>7.000000</td>\n",
       "      <td>0.000000</td>\n",
       "      <td>20.000000</td>\n",
       "      <td>1.500000</td>\n",
       "      <td>-12.000000</td>\n",
       "    </tr>\n",
       "    <tr>\n",
       "      <th>75%</th>\n",
       "      <td>26.250000</td>\n",
       "      <td>721.750000</td>\n",
       "      <td>330.500000</td>\n",
       "      <td>14.000000</td>\n",
       "      <td>1079.250000</td>\n",
       "      <td>10.250000</td>\n",
       "      <td>675.000000</td>\n",
       "      <td>268.500000</td>\n",
       "      <td>1185.250000</td>\n",
       "      <td>107.750000</td>\n",
       "      <td>...</td>\n",
       "      <td>48.000000</td>\n",
       "      <td>78.750000</td>\n",
       "      <td>6.000000</td>\n",
       "      <td>121.250000</td>\n",
       "      <td>64.000000</td>\n",
       "      <td>39.500000</td>\n",
       "      <td>6.500000</td>\n",
       "      <td>98.250000</td>\n",
       "      <td>7.000000</td>\n",
       "      <td>74.250000</td>\n",
       "    </tr>\n",
       "    <tr>\n",
       "      <th>max</th>\n",
       "      <td>35.000000</td>\n",
       "      <td>1815.000000</td>\n",
       "      <td>718.000000</td>\n",
       "      <td>4723.000000</td>\n",
       "      <td>2261.000000</td>\n",
       "      <td>3344.000000</td>\n",
       "      <td>1354.000000</td>\n",
       "      <td>718.000000</td>\n",
       "      <td>2203.000000</td>\n",
       "      <td>357.000000</td>\n",
       "      <td>...</td>\n",
       "      <td>156.000000</td>\n",
       "      <td>686.000000</td>\n",
       "      <td>686.000000</td>\n",
       "      <td>251.000000</td>\n",
       "      <td>138.000000</td>\n",
       "      <td>444.000000</td>\n",
       "      <td>1505.000000</td>\n",
       "      <td>271.000000</td>\n",
       "      <td>2018.000000</td>\n",
       "      <td>1089.000000</td>\n",
       "    </tr>\n",
       "  </tbody>\n",
       "</table>\n",
       "<p>8 rows × 7465 columns</p>\n",
       "</div>"
      ],
      "text/plain": [
       "       Unnamed: 0       X53416      M83670       X90908       M97496  \\\n",
       "count   36.000000    36.000000   36.000000    36.000000    36.000000   \n",
       "mean    17.500000   378.750000  177.305556   128.027778   568.305556   \n",
       "std     10.535654   648.716067  243.494655   787.935802   637.451928   \n",
       "min      0.000000  -694.000000 -117.000000   -50.000000     8.000000   \n",
       "25%      8.750000   -95.750000  -31.000000   -13.250000    47.250000   \n",
       "50%     17.500000   194.500000  117.000000    -4.500000   293.500000   \n",
       "75%     26.250000   721.750000  330.500000    14.000000  1079.250000   \n",
       "max     35.000000  1815.000000  718.000000  4723.000000  2261.000000   \n",
       "\n",
       "          X90908.1       U37019      R48602       T96548      X64559  ...  \\\n",
       "count    36.000000    36.000000   36.000000    36.000000   36.000000  ...   \n",
       "mean     93.555556   366.833333  140.166667   644.194444   73.444444  ...   \n",
       "std     557.527370   427.166645  171.443202   685.514231   88.504219  ...   \n",
       "min     -54.000000    -6.000000  -18.000000    -8.000000   -8.000000  ...   \n",
       "25%      -7.000000    27.250000   17.750000    33.250000    8.250000  ...   \n",
       "50%       3.000000   110.500000   37.500000   333.500000   37.500000  ...   \n",
       "75%      10.250000   675.000000  268.500000  1185.250000  107.750000  ...   \n",
       "max    3344.000000  1354.000000  718.000000  2203.000000  357.000000  ...   \n",
       "\n",
       "           D14657      H87456      R64130     H11125.1      U22055  \\\n",
       "count   36.000000   36.000000   36.000000    36.000000   36.000000   \n",
       "mean    31.750000   71.111111   35.694444    53.194444   38.388889   \n",
       "std     50.036201  118.940748  127.437115   269.630628   47.619490   \n",
       "min    -21.000000  -24.000000  -12.000000 -1484.000000  -73.000000   \n",
       "25%      1.500000    9.000000   -1.250000    59.250000   12.750000   \n",
       "50%     10.000000   55.500000    3.000000    94.000000   36.000000   \n",
       "75%     48.000000   78.750000    6.000000   121.250000   64.000000   \n",
       "max    156.000000  686.000000  686.000000   251.000000  138.000000   \n",
       "\n",
       "           L22524     M13699.1      X54489       T55008     M10065.2  \n",
       "count   36.000000    36.000000   36.000000    36.000000    36.000000  \n",
       "mean    40.944444    41.222222   57.027778    58.694444    44.027778  \n",
       "std     83.763935   251.147778   71.322001   336.030766   224.891782  \n",
       "min    -16.000000   -23.000000   -5.000000   -17.000000  -214.000000  \n",
       "25%      3.500000    -4.750000    7.000000    -5.000000   -72.750000  \n",
       "50%      7.000000     0.000000   20.000000     1.500000   -12.000000  \n",
       "75%     39.500000     6.500000   98.250000     7.000000    74.250000  \n",
       "max    444.000000  1505.000000  271.000000  2018.000000  1089.000000  \n",
       "\n",
       "[8 rows x 7465 columns]"
      ]
     },
     "execution_count": 17,
     "metadata": {},
     "output_type": "execute_result"
    }
   ],
   "source": [
    "df.describe()"
   ]
  },
  {
   "cell_type": "code",
   "execution_count": 18,
   "metadata": {},
   "outputs": [
    {
     "data": {
      "text/plain": [
       "(36, 7466)"
      ]
     },
     "execution_count": 18,
     "metadata": {},
     "output_type": "execute_result"
    }
   ],
   "source": [
    "df.shape"
   ]
  },
  {
   "cell_type": "markdown",
   "metadata": {},
   "source": [
    "### Split data into X and y"
   ]
  },
  {
   "cell_type": "code",
   "execution_count": 19,
   "metadata": {},
   "outputs": [],
   "source": [
    "X=df.drop(\"y\",axis=1)"
   ]
  },
  {
   "cell_type": "code",
   "execution_count": 20,
   "metadata": {},
   "outputs": [
    {
     "data": {
      "text/plain": [
       "Index(['Unnamed: 0', 'X53416', 'M83670', 'X90908', 'M97496', 'X90908.1',\n",
       "       'U37019', 'R48602', 'T96548', 'X64559',\n",
       "       ...\n",
       "       'D14657', 'H87456', 'R64130', 'H11125.1', 'U22055', 'L22524',\n",
       "       'M13699.1', 'X54489', 'T55008', 'M10065.2'],\n",
       "      dtype='object', length=7465)"
      ]
     },
     "execution_count": 20,
     "metadata": {},
     "output_type": "execute_result"
    }
   ],
   "source": [
    "X.columns"
   ]
  },
  {
   "cell_type": "code",
   "execution_count": 21,
   "metadata": {},
   "outputs": [
    {
     "data": {
      "text/plain": [
       "(36, 7465)"
      ]
     },
     "execution_count": 21,
     "metadata": {},
     "output_type": "execute_result"
    }
   ],
   "source": [
    "X.shape"
   ]
  },
  {
   "cell_type": "code",
   "execution_count": 22,
   "metadata": {},
   "outputs": [
    {
     "data": {
      "text/plain": [
       "0    tumor\n",
       "1    tumor\n",
       "2    tumor\n",
       "3    tumor\n",
       "4    tumor\n",
       "Name: y, dtype: object"
      ]
     },
     "execution_count": 22,
     "metadata": {},
     "output_type": "execute_result"
    }
   ],
   "source": [
    "y=df['y']\n",
    "y.head()"
   ]
  },
  {
   "cell_type": "code",
   "execution_count": 29,
   "metadata": {},
   "outputs": [
    {
     "data": {
      "text/plain": [
       "array(['tumor', 'tumor', 'tumor', 'tumor', 'tumor', 'tumor', 'Normal',\n",
       "       'Normal'], dtype=object)"
      ]
     },
     "execution_count": 29,
     "metadata": {},
     "output_type": "execute_result"
    }
   ],
   "source": [
    "from sklearn.ensemble import RandomForestClassifier\n",
    "model=RandomForestClassifier(n_estimators=10)\n",
    "model.fit(X,y)\n",
    "\n",
    "\n",
    "from sklearn.model_selection import train_test_split\n",
    "X_train,X_test,y_train,y_test=train_test_split(X,y,test_size=0.2)\n",
    "\n",
    "prediction=model.predict(X_test)\n",
    "prediction"
   ]
  },
  {
   "cell_type": "code",
   "execution_count": 25,
   "metadata": {},
   "outputs": [
    {
     "name": "stdout",
     "output_type": "stream",
     "text": [
      " Score is  1.0\n"
     ]
    }
   ],
   "source": [
    "score=model.score(X_test,y_test)\n",
    "print(\" Score is \", score)"
   ]
  },
  {
   "cell_type": "code",
   "execution_count": 26,
   "metadata": {},
   "outputs": [
    {
     "name": "stdout",
     "output_type": "stream",
     "text": [
      "Accuracy is  1.0\n"
     ]
    }
   ],
   "source": [
    "from sklearn import metrics\n",
    "print(\"Accuracy is \" , metrics.accuracy_score(y_test,prediction))"
   ]
  },
  {
   "cell_type": "code",
   "execution_count": 28,
   "metadata": {},
   "outputs": [
    {
     "data": {
      "text/plain": [
       "array([[6, 0],\n",
       "       [0, 2]], dtype=int64)"
      ]
     },
     "execution_count": 28,
     "metadata": {},
     "output_type": "execute_result"
    }
   ],
   "source": [
    "cm=metrics.confusion_matrix(y_test,prediction)\n",
    "cm"
   ]
  },
  {
   "cell_type": "code",
   "execution_count": null,
   "metadata": {},
   "outputs": [],
   "source": []
  }
 ],
 "metadata": {
  "interpreter": {
   "hash": "1baa965d5efe3ac65b79dfc60c0d706280b1da80fedb7760faf2759126c4f253"
  },
  "kernelspec": {
   "display_name": "Python 3.8.0 64-bit",
   "language": "python",
   "name": "python3"
  },
  "language_info": {
   "codemirror_mode": {
    "name": "ipython",
    "version": 3
   },
   "file_extension": ".py",
   "mimetype": "text/x-python",
   "name": "python",
   "nbconvert_exporter": "python",
   "pygments_lexer": "ipython3",
   "version": "3.8.0"
  },
  "orig_nbformat": 4
 },
 "nbformat": 4,
 "nbformat_minor": 2
}
